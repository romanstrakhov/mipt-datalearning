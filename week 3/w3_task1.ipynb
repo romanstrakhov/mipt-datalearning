{
 "cells": [
  {
   "cell_type": "code",
   "execution_count": 7,
   "metadata": {
    "collapsed": true
   },
   "outputs": [],
   "source": [
    "%matplotlib inline"
   ]
  },
  {
   "cell_type": "markdown",
   "metadata": {},
   "source": [
    "Рассмотрим все ту же функцию из задания по линейной алгебре: $$f(x) = sin(x / 5) * exp(x / 10) + 5 * exp(-x / 2)$$, но теперь уже на промежутке [1, 30]"
   ]
  },
  {
   "cell_type": "code",
   "execution_count": 16,
   "metadata": {
    "collapsed": false
   },
   "outputs": [],
   "source": [
    "import numpy as np\n",
    "from matplotlib import pyplot as ppl\n",
    "from scipy import linalg\n",
    "from scipy import optimize"
   ]
  },
  {
   "cell_type": "code",
   "execution_count": 87,
   "metadata": {
    "collapsed": false
   },
   "outputs": [
    {
     "data": {
      "image/png": "[encoded data removed]",
      "text/plain": [
       "<matplotlib.figure.Figure at 0x10de66210>"
      ]
     },
     "metadata": {},
     "output_type": "display_data"
    }
   ],
   "source": [
    "def f(x):\n",
    "    return np.sin(x / 5.0) * np.exp(x / 10.0) + 5 * np.exp(-x / 2.0)\n",
    "\n",
    "x = np.arange(1,30,.001)\n",
    "y = map(lambda x: f(x), x)\n",
    "ppl.plot(x,y)\n",
    "ppl.show()"
   ]
  },
  {
   "cell_type": "markdown",
   "metadata": {},
   "source": [
    "## Task 1"
   ]
  },
  {
   "cell_type": "code",
   "execution_count": 58,
   "metadata": {
    "collapsed": false
   },
   "outputs": [
    {
     "name": "stdout",
     "output_type": "stream",
     "text": [
      "[ 4.13628824] 1.74526829033\n",
      "[ 24.67766107] -11.5035807412\n",
      "[ 4.13630013] 1.74526829034\n"
     ]
    }
   ],
   "source": [
    "res = optimize.minimize (f, 0)\n",
    "res2 = optimize.minimize (f, 15)\n",
    "res3 = optimize.minimize (f, 10)\n",
    "print res.x, res.fun\n",
    "print res2.x, res2.fun\n",
    "print res3.x, res3.fun"
   ]
  },
  {
   "cell_type": "code",
   "execution_count": 84,
   "metadata": {
    "collapsed": false
   },
   "outputs": [
    {
     "name": "stdout",
     "output_type": "stream",
     "text": [
      "[ 4.13628824] 1.74526829033\n",
      "[ 24.67766107] -11.5035807412\n",
      "[ 25.880193] -11.898894666\n",
      "      fun: 1.745268290344928\n",
      " hess_inv: array([[ 5.98750711]])\n",
      "      jac: array([ -2.05636024e-06])\n",
      "  message: 'Optimization terminated successfully.'\n",
      "     nfev: 21\n",
      "      nit: 6\n",
      "     njev: 7\n",
      "   status: 0\n",
      "  success: True\n",
      "        x: array([ 4.13627619])\n",
      "      fun: -11.898894665981322\n",
      " hess_inv: array([[ 1.67940841]])\n",
      "      jac: array([ 0.])\n",
      "  message: 'Optimization terminated successfully.'\n",
      "     nfev: 21\n",
      "      nit: 6\n",
      "     njev: 7\n",
      "   status: 0\n",
      "  success: True\n",
      "        x: array([ 25.880193])\n",
      "1.75 -11.9\n"
     ]
    }
   ],
   "source": [
    "res = optimize.minimize (f, 0, method='BFGS')\n",
    "res2 = optimize.minimize (f, 15, method='BFGS')\n",
    "res3 = optimize.minimize (f, 30, method='BFGS')\n",
    "res_fin_1 = optimize.minimize (f, 2, method='BFGS')\n",
    "res_fin_2 = optimize.minimize (f, 30, method='BFGS')\n",
    "print res.x, res.fun\n",
    "print res2.x, res2.fun\n",
    "print res3.x, res3.fun\n",
    "print res_fin_1\n",
    "print res_fin_2\n",
    "result_1 = round(res_fin_1.fun,2)\n",
    "result_2 = round(res_fin_2.fun,2)\n",
    "result = str(result_1)+' '+str(result_2)\n",
    "print result\n",
    "\n",
    "file_obj = open('submission-1.txt', 'w')\n",
    "x = file_obj.write(result)\n",
    "file_obj.close()\n"
   ]
  },
  {
   "cell_type": "markdown",
   "metadata": {},
   "source": [
    "## Task 2"
   ]
  },
  {
   "cell_type": "code",
   "execution_count": 85,
   "metadata": {
    "collapsed": false
   },
   "outputs": [
    {
     "name": "stdout",
     "output_type": "stream",
     "text": [
      "     fun: array([-11.89889467])\n",
      "     jac: array([ 0.])\n",
      " message: 'Optimization terminated successfully.'\n",
      "    nfev: 98\n",
      "     nit: 5\n",
      " success: True\n",
      "       x: array([ 25.88019303])\n",
      "-11.9\n"
     ]
    }
   ],
   "source": [
    "bounds = [(1, 30)]\n",
    "res = optimize.differential_evolution(f, bounds)\n",
    "print res\n",
    "\n",
    "\n",
    "result = str(round(res.fun,2))\n",
    "print result\n",
    "\n",
    "file_obj = open('submission-2.txt', 'w')\n",
    "x = file_obj.write(result)\n",
    "file_obj.close()"
   ]
  },
  {
   "cell_type": "code",
   "execution_count": 76,
   "metadata": {
    "collapsed": false
   },
   "outputs": [
    {
     "data": {
      "text/plain": [
       "     fun: array([-11.89889467])\n",
       "     jac: array([ -1.77635684e-07])\n",
       " message: 'Optimization terminated successfully.'\n",
       "    nfev: 83\n",
       "     nit: 4\n",
       " success: True\n",
       "       x: array([ 25.8801931])"
      ]
     },
     "execution_count": 76,
     "metadata": {},
     "output_type": "execute_result"
    }
   ],
   "source": [
    "res"
   ]
  },
  {
   "cell_type": "markdown",
   "metadata": {},
   "source": [
    "## Task 3"
   ]
  },
  {
   "cell_type": "code",
   "execution_count": 88,
   "metadata": {
    "collapsed": false
   },
   "outputs": [
    {
     "data": {
      "image/png": "[encoded data removed]",
      "text/plain": [
       "<matplotlib.figure.Figure at 0x10dc09190>"
      ]
     },
     "metadata": {},
     "output_type": "display_data"
    }
   ],
   "source": [
    "def h(x):\n",
    "    return int(f(x))\n",
    "\n",
    "x = np.arange(1,30,.001)\n",
    "y = map(lambda x: h(x), x)\n",
    "ppl.plot(x,y)\n",
    "ppl.show()"
   ]
  },
  {
   "cell_type": "code",
   "execution_count": 91,
   "metadata": {
    "collapsed": false
   },
   "outputs": [
    {
     "name": "stdout",
     "output_type": "stream",
     "text": [
      "      fun: -5\n",
      " hess_inv: array([[1]])\n",
      "      jac: array([ 0.])\n",
      "  message: 'Optimization terminated successfully.'\n",
      "     nfev: 3\n",
      "      nit: 0\n",
      "     njev: 1\n",
      "   status: 0\n",
      "  success: True\n",
      "        x: array([ 30.])\n",
      "-5\n"
     ]
    }
   ],
   "source": [
    "res1 = optimize.minimize (h, 30, method='BFGS')\n",
    "print res1\n",
    "print res1.fun"
   ]
  },
  {
   "cell_type": "code",
   "execution_count": 93,
   "metadata": {
    "collapsed": false
   },
   "outputs": [
    {
     "name": "stdout",
     "output_type": "stream",
     "text": [
      "     fun: -11.0\n",
      " message: 'Optimization terminated successfully.'\n",
      "    nfev: 62\n",
      "     nit: 3\n",
      " success: True\n",
      "       x: array([ 25.01466142])\n",
      "-11.0\n"
     ]
    }
   ],
   "source": [
    "res2 = optimize.differential_evolution(h,[(1,30)])\n",
    "print res2\n",
    "print res2.fun"
   ]
  },
  {
   "cell_type": "code",
   "execution_count": 96,
   "metadata": {
    "collapsed": false
   },
   "outputs": [
    {
     "name": "stdout",
     "output_type": "stream",
     "text": [
      "-5.0 -11.0\n"
     ]
    }
   ],
   "source": [
    "result = str(round(res1.fun,2))+' '+str(round(res2.fun,2))\n",
    "print result\n",
    "\n",
    "file_obj = open('submission-3.txt', 'w')\n",
    "x = file_obj.write(result)\n",
    "file_obj.close()"
   ]
  },
  {
   "cell_type": "code",
   "execution_count": null,
   "metadata": {
    "collapsed": true
   },
   "outputs": [],
   "source": []
  }
 ],
 "metadata": {
  "kernelspec": {
   "display_name": "Python 2",
   "language": "python",
   "name": "python2"
  },
  "language_info": {
   "codemirror_mode": {
    "name": "ipython",
    "version": 2
   },
   "file_extension": ".py",
   "mimetype": "text/x-python",
   "name": "python",
   "nbconvert_exporter": "python",
   "pygments_lexer": "ipython2",
   "version": "2.7.13"
  }
 },
 "nbformat": 4,
 "nbformat_minor": 2
}
