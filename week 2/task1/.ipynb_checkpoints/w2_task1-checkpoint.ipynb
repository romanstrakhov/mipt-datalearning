{
 "cells": [
  {
   "cell_type": "markdown",
   "metadata": {},
   "source": [
    "Выполните следующие шаги:\n",
    "\n",
    "Скачайте файл с предложениями (sentences.txt).\n",
    "Каждая строка в файле соответствует одному предложению. Считайте их, приведите каждую к нижнему регистру с помощью строковой функции lower().\n",
    "\n",
    "Произведите токенизацию, то есть разбиение текстов на слова. Для этого можно воспользоваться регулярным выражением, которое считает разделителем любой символ, не являющийся буквой: re.split('[^a-z]', t). Не забудьте удалить пустые слова после разделения.\n",
    "\n",
    "Составьте список всех слов, встречающихся в предложениях. Сопоставьте каждому слову индекс от нуля до (d - 1), где d — число различных слов в предложениях. Для этого удобно воспользоваться структурой dict.\n",
    "\n",
    "Создайте матрицу размера n * d, где n — число предложений. Заполните ее: элемент с индексом (i, j) в этой матрице должен быть равен количеству вхождений j-го слова в i-е предложение. У вас должна получиться матрица размера 22 * 254.\n",
    "\n",
    "Найдите косинусное расстояние от предложения в самой первой строке (In comparison to dogs, cats have not undergone...) до всех остальных с помощью функции scipy.spatial.distance.cosine. Какие номера у двух предложений, ближайших к нему по этому расстоянию (строки нумеруются с нуля)? Эти два числа и будут ответами на задание.\n",
    "\n",
    "Запишите полученные числа в файл, разделив пробелом. Обратите внимание, что файл должен состоять из одной строки, в конце которой не должно быть переноса. Пример файла с решением вы можете найти в конце задания (submission-1.txt).\n",
    "\n",
    "Совпадают ли ближайшие два предложения по тематике с первым? Совпадают ли тематики у следующих по близости предложений?\n",
    "\n",
    "Разумеется, использованный вами метод крайне простой. Например, он не учитывает формы слов (так, cat и cats он считает разными словами, хотя по сути они означают одно и то же), не удаляет из текстов артикли и прочие ненужные слова. Позже мы будем подробно изучать анализ текстов, где выясним, как достичь высокого качества в задаче поиска похожих предложений."
   ]
  },
  {
   "cell_type": "code",
   "execution_count": 191,
   "metadata": {
    "collapsed": true
   },
   "outputs": [],
   "source": [
    "import re\n",
    "import numpy as np\n",
    "import scipy.spatial.distance as ssd"
   ]
  },
  {
   "cell_type": "code",
   "execution_count": 99,
   "metadata": {
    "collapsed": false
   },
   "outputs": [],
   "source": [
    "file_obj = open('sentences.txt', 'r')\n",
    "data_list = file_obj.readlines()\n",
    "file_obj.close() \n",
    "\n",
    "data_list = map(lambda x: filter(None,re.split('[^a-z]',x.lower())),data_list)"
   ]
  },
  {
   "cell_type": "code",
   "execution_count": 128,
   "metadata": {
    "collapsed": false
   },
   "outputs": [],
   "source": [
    "mydict = dict()\n",
    "\n",
    "for i in data_list:\n",
    "    for j in i:\n",
    "        if j not in mydict:\n",
    "            mydict[j] = len(mydict)\n"
   ]
  },
  {
   "cell_type": "code",
   "execution_count": 139,
   "metadata": {
    "collapsed": false
   },
   "outputs": [],
   "source": [
    "# n — число предложений, d — число возможных слов\n",
    "n = len(data_list)\n",
    "d = len(mydict)\n",
    "\n",
    "A = np.zeros((n,d))\n",
    "for i in range(n):\n",
    "    for j in data_list[i]:\n",
    "        if j in mydict:\n",
    "            A[i,mydict[j]] += 1\n"
   ]
  },
  {
   "cell_type": "code",
   "execution_count": 244,
   "metadata": {
    "collapsed": false
   },
   "outputs": [
    {
     "name": "stdout",
     "output_type": "stream",
     "text": [
      "result: 6 4\n"
     ]
    }
   ],
   "source": [
    "coss = range(n)\n",
    "for i in range(0,n):\n",
    "    coss[i] = ssd.cosine(A[i],A[0])\n",
    "    \n",
    "coss[0] = 1\n",
    "index1 = np.argmin(coss)\n",
    "coss[index1] = 1\n",
    "index2 = np.argmin(coss)\n",
    "coss[index2] = 1\n",
    "\n",
    "result = str(index1) + ' ' + str(index2)\n",
    "print \"result:\", result\n",
    "\n",
    "file_obj = open('submission-1.txt', 'w')\n",
    "x = file_obj.write(result)\n",
    "file_obj.close()"
   ]
  },
  {
   "cell_type": "code",
   "execution_count": 245,
   "metadata": {
    "collapsed": false
   },
   "outputs": [
    {
     "name": "stdout",
     "output_type": "stream",
     "text": [
      "0 \t1\n",
      "1 \t0.952754440874\n",
      "2 \t0.864473814564\n",
      "3 \t0.895171516328\n",
      "4 \t1\n",
      "5 \t0.940238569533\n",
      "6 \t1\n",
      "7 \t0.925875068334\n",
      "8 \t0.884272487528\n",
      "9 \t0.905508881748\n",
      "10 \t0.832816536227\n",
      "11 \t0.880477139067\n",
      "12 \t0.839643254853\n",
      "13 \t0.87035925529\n",
      "14 \t0.87401184233\n",
      "15 \t0.944272178742\n",
      "16 \t0.840636185422\n",
      "17 \t0.956644501524\n",
      "18 \t0.944272178742\n",
      "19 \t0.888544357485\n",
      "20 \t0.842757274492\n",
      "21 \t0.825036446944\n"
     ]
    }
   ],
   "source": [
    "k = 0\n",
    "for i in coss:\n",
    "    print k, \"\\t\", i\n",
    "    k += 1\n",
    "    "
   ]
  },
  {
   "cell_type": "code",
   "execution_count": null,
   "metadata": {
    "collapsed": true
   },
   "outputs": [],
   "source": []
  }
 ],
 "metadata": {
  "kernelspec": {
   "display_name": "Python 2",
   "language": "python",
   "name": "python2"
  },
  "language_info": {
   "codemirror_mode": {
    "name": "ipython",
    "version": 2
   },
   "file_extension": ".py",
   "mimetype": "text/x-python",
   "name": "python",
   "nbconvert_exporter": "python",
   "pygments_lexer": "ipython2",
   "version": "2.7.13"
  }
 },
 "nbformat": 4,
 "nbformat_minor": 2
}
