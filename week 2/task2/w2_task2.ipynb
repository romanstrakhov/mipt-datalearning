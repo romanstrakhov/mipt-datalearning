{
 "cells": [
  {
   "cell_type": "code",
   "execution_count": 21,
   "metadata": {
    "collapsed": false
   },
   "outputs": [],
   "source": [
    "import numpy as np\n",
    "from scipy import linalg\n",
    "import matplotlib\n",
    "import matplotlib.pyplot as ppl\n",
    "from scipy import interpolate"
   ]
  },
  {
   "cell_type": "markdown",
   "metadata": {},
   "source": [
    "$$f(x) = sin(x / 5) * exp(x / 10) + 5 * exp(-x / 2)$$"
   ]
  },
  {
   "cell_type": "code",
   "execution_count": 22,
   "metadata": {
    "collapsed": true
   },
   "outputs": [],
   "source": [
    "def f(x):\n",
    "    return np.sin(x / 5.0) * np.exp(x / 10.0) + 5*np.exp(-x / 2.0)"
   ]
  },
  {
   "cell_type": "code",
   "execution_count": 23,
   "metadata": {
    "collapsed": false
   },
   "outputs": [],
   "source": [
    "x = np.arange(0,16,0.1)\n",
    "y = map(lambda x: f(x),x)"
   ]
  },
  {
   "cell_type": "code",
   "execution_count": 24,
   "metadata": {
    "collapsed": false
   },
   "outputs": [],
   "source": [
    "x1 = [1.0,15.0]\n",
    "y1 = map(lambda x:f(x),x1)\n",
    "\n",
    "n = len(x1)\n",
    "A1 = np.zeros((n,n))\n",
    "for i in range(n):\n",
    "    for j in range(n):\n",
    "        A1[i,j]=float(x1[i])**j\n",
    "\n",
    "b1 = np.array(map(lambda x:f(x),x1)).reshape((n,1))\n",
    "y1 = linalg.solve(A1,b1)"
   ]
  },
  {
   "cell_type": "code",
   "execution_count": 25,
   "metadata": {
    "collapsed": false
   },
   "outputs": [],
   "source": [
    "x2 = [1.0,8.0,15.0]\n",
    "y2 = map(lambda x:f(x),x2)\n",
    "\n",
    "n = len(x2)\n",
    "A2 = np.zeros((n,n))\n",
    "for i in range(n):\n",
    "    for j in range(n):\n",
    "        A2[i,j]=float(x2[i])**j\n",
    "\n",
    "b2 = np.array(map(lambda x:f(x),x2)).reshape((n,1))\n",
    "y2 = linalg.solve(A2,b2)"
   ]
  },
  {
   "cell_type": "code",
   "execution_count": 26,
   "metadata": {
    "collapsed": false
   },
   "outputs": [],
   "source": [
    "x3 = [1.0,4.0,10.0,15.0]\n",
    "y3 = map(lambda x:f(x),x3)\n",
    "\n",
    "n = len(x3)\n",
    "A3 = np.zeros((n,n))\n",
    "for i in range(n):\n",
    "    for j in range(n):\n",
    "        A3[i,j]=float(x3[i])**j\n",
    "\n",
    "b3 = np.array(map(lambda x:f(x),x3)).reshape((n,1))\n",
    "y3 = linalg.solve(A3,b3)"
   ]
  },
  {
   "cell_type": "code",
   "execution_count": 27,
   "metadata": {
    "collapsed": false
   },
   "outputs": [],
   "source": [
    "def f1(x):\n",
    "    res = 0\n",
    "    for i in range(len(y1)):\n",
    "        res += y1[i] * x ** i\n",
    "    return res\n",
    "\n",
    "def f2(x):\n",
    "    res = 0\n",
    "    for i in range(len(y2)):\n",
    "        res += y2[i] * x ** i\n",
    "    return res\n",
    "\n",
    "def f3(x):\n",
    "    res = 0\n",
    "    for i in range(len(y3)):\n",
    "        res += y3[i] * x ** i\n",
    "    return res\n",
    "\n",
    "\n",
    "yd1 = map(lambda x: f1(x),x)\n",
    "yd2 = map(lambda x: f2(x),x)\n",
    "yd3 = map(lambda x: f3(x),x)\n"
   ]
  },
  {
   "cell_type": "code",
   "execution_count": 28,
   "metadata": {
    "collapsed": false
   },
   "outputs": [
    {
     "data": {
      "image/png": "[encoded data removed]",
      "text/plain": [
       "<matplotlib.figure.Figure at 0x10d7bfe50>"
      ]
     },
     "metadata": {},
     "output_type": "display_data"
    }
   ],
   "source": [
    "%matplotlib inline\n",
    "ppl.plot(x,y,'-',x,yd1,'-',x,yd2,'-',x,yd3,'-')\n",
    "ppl.show()"
   ]
  },
  {
   "cell_type": "code",
   "execution_count": 31,
   "metadata": {
    "collapsed": false
   },
   "outputs": [
    {
     "name": "stdout",
     "output_type": "stream",
     "text": [
      "<type 'numpy.ndarray'>\n",
      "(4, 1)\n"
     ]
    }
   ],
   "source": [
    "print type(y3)\n",
    "print y3.shape\n",
    "result = ' '.join(map(lambda x: str(round(x,2)), y3.T[0].tolist()))\n",
    "\n",
    "file_obj = open('submission-2.txt', 'w')\n",
    "x = file_obj.write(result)\n",
    "file_obj.close()"
   ]
  },
  {
   "cell_type": "markdown",
   "metadata": {},
   "source": [
    "print type(y3)\n",
    ">> <type 'numpy.ndarray'>\n",
    "print y3.shape\n",
    ">> (4, 1)"
   ]
  }
 ],
 "metadata": {
  "kernelspec": {
   "display_name": "Python 2",
   "language": "python",
   "name": "python2"
  },
  "language_info": {
   "codemirror_mode": {
    "name": "ipython",
    "version": 2
   },
   "file_extension": ".py",
   "mimetype": "text/x-python",
   "name": "python",
   "nbconvert_exporter": "python",
   "pygments_lexer": "ipython2",
   "version": "2.7.13"
  }
 },
 "nbformat": 4,
 "nbformat_minor": 2
}
