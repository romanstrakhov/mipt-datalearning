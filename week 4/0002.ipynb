{
 "cells": [
  {
   "cell_type": "markdown",
   "metadata": {},
   "source": [
    "# 1"
   ]
  },
  {
   "cell_type": "code",
   "execution_count": 5,
   "metadata": {
    "collapsed": false
   },
   "outputs": [
    {
     "name": "stdout",
     "output_type": "stream",
     "text": [
      "0.4\n"
     ]
    }
   ],
   "source": [
    "P1 = 0.5\n",
    "P2 = 0.2\n",
    "\n",
    "P = P2 / P1\n",
    "print P"
   ]
  },
  {
   "cell_type": "markdown",
   "metadata": {},
   "source": [
    "# 4"
   ]
  },
  {
   "cell_type": "markdown",
   "metadata": {},
   "source": [
    "$P(A+B) = P(A) + P(B) - P(AB)$"
   ]
  },
  {
   "cell_type": "code",
   "execution_count": 8,
   "metadata": {
    "collapsed": false
   },
   "outputs": [
    {
     "name": "stdout",
     "output_type": "stream",
     "text": [
      "0.75\n"
     ]
    }
   ],
   "source": [
    "# P(A)\n",
    "PA = 1.0/2\n",
    "# P(B)\n",
    "PB = 1.0/2\n",
    "# P(A+B)\n",
    "PAB = PA + PB - PA*PB\n",
    "print PAB"
   ]
  },
  {
   "cell_type": "markdown",
   "metadata": {},
   "source": [
    "# 3\n",
    "\n",
    "1% женщин больны раком груди. У 80% женщин, больных раком груди, маммограмма верно выявляет наличие заболевания; кроме того, она даёт ложный положительный результат (то есть, неверно показывает наличие рака) для 9.6% здоровых женщин.\n",
    "\n",
    "У какого процента женщин, маммограмма которых дала положительный результат, есть рак груди? Запишите ответ с точностью до одного знака после десятичной точки (знак процента не нужен).\n",
    "\n",
    "$P(A|B)=(P(A)*P(B|A))/P(B)$"
   ]
  },
  {
   "cell_type": "code",
   "execution_count": 14,
   "metadata": {
    "collapsed": false
   },
   "outputs": [
    {
     "name": "stdout",
     "output_type": "stream",
     "text": [
      "7.76397515528\n"
     ]
    }
   ],
   "source": [
    "# Ложный положительный результат\n",
    "P_lp = 0.99 * 0.096\n",
    "# Верный положительный разультат\n",
    "P_vp = 0.01 * 0.8\n",
    "\n",
    "# A - есть рак\n",
    "# B - положительный рез-т\n",
    "# P(A|B) = P(AB)/P(B)\n",
    "# P(A|B) = P(A)*P(B|A)/P(B)\n",
    "\n",
    "PAB = 0.01 * 0.8 / (P_lp + P_vp)\n",
    "print PAB*100\n",
    "\n",
    "\n"
   ]
  },
  {
   "cell_type": "code",
   "execution_count": null,
   "metadata": {
    "collapsed": true
   },
   "outputs": [],
   "source": []
  }
 ],
 "metadata": {
  "kernelspec": {
   "display_name": "Python 2",
   "language": "python",
   "name": "python2"
  },
  "language_info": {
   "codemirror_mode": {
    "name": "ipython",
    "version": 2
   },
   "file_extension": ".py",
   "mimetype": "text/x-python",
   "name": "python",
   "nbconvert_exporter": "python",
   "pygments_lexer": "ipython2",
   "version": "2.7.13"
  }
 },
 "nbformat": 4,
 "nbformat_minor": 2
}
