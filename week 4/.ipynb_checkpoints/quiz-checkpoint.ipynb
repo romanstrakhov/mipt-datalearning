{
 "cells": [
  {
   "cell_type": "code",
   "execution_count": 10,
   "metadata": {
    "collapsed": true
   },
   "outputs": [],
   "source": [
    "import numpy as np\n",
    "from scipy import stats as sts\n",
    "import math\n",
    "%matplotlib inline"
   ]
  },
  {
   "cell_type": "markdown",
   "metadata": {},
   "source": [
    "## 9\n",
    "Для продвижения вашего продукта рекламный отдел предлагает использовать новый видеоролик. На фокус-группе вы показываете 40 испытуемым новый и старый видеоролики и спрашиваете, какой из них им нравится больше; 62.5% испытуемых выбирают новый. Используя центральную предельную теорему и правило двух сигм, постройте 95% доверительный интервал для доли членов целевой аудитории, предпочитающих новый видеоролик. Выберите вывод, соответствующий построенному интервалу."
   ]
  },
  {
   "cell_type": "markdown",
   "metadata": {},
   "source": [
    "Пусть X = {1 если новый; 0 если старый\n",
    "\n",
    "Распределние Бернулли X ~ Ber(p)\n",
    "Xn = 1/n * sum i,n (..) = pn\n"
   ]
  },
  {
   "cell_type": "code",
   "execution_count": 7,
   "metadata": {
    "collapsed": false
   },
   "outputs": [
    {
     "name": "stdout",
     "output_type": "stream",
     "text": [
      "0.076546554462\n",
      "0.471906891076 0.778093108924\n",
      "0.47 0.78\n"
     ]
    }
   ],
   "source": [
    "n = 40\n",
    "pn = 0.625\n",
    "\n",
    "m = pn\n",
    "s = np.sqrt(pn * (1 - pn) / n)\n",
    "\n",
    "print s\n",
    "print m - 2 * s, m + 2 * s\n",
    "print round(m - 2 * s, 2), round (m + 2 * s, 2)"
   ]
  },
  {
   "cell_type": "markdown",
   "metadata": {},
   "source": [
    "## 10\n",
    "Предположим, что вы получаете в среднем три спам-письма в день. Какова доля дней, в которые вы получаете пять или больше спам-писем? Округлите до двух знаков после десятичной точки."
   ]
  },
  {
   "cell_type": "code",
   "execution_count": 14,
   "metadata": {
    "collapsed": false
   },
   "outputs": [
    {
     "name": "stdout",
     "output_type": "stream",
     "text": [
      "0.0497870683679\n",
      "0.149361205104\n",
      "0.224041807655\n",
      "0.224041807655\n",
      "0.168031355742\n",
      "p = 0.18 0.184736755476\n"
     ]
    }
   ],
   "source": [
    "# лямбда = 3\n",
    "l = 3.0\n",
    "p = 1\n",
    "\n",
    "for i in range(5):\n",
    "    pi = np.exp(-l) * np.power(l,i) / math.factorial(i)\n",
    "    p -= pi\n",
    "    print pi\n",
    "\n",
    "print \"p =\", round(p,2), p\n",
    "    "
   ]
  },
  {
   "cell_type": "code",
   "execution_count": null,
   "metadata": {
    "collapsed": true
   },
   "outputs": [],
   "source": []
  }
 ],
 "metadata": {
  "kernelspec": {
   "display_name": "Python 2",
   "language": "python",
   "name": "python2"
  },
  "language_info": {
   "codemirror_mode": {
    "name": "ipython",
    "version": 2
   },
   "file_extension": ".py",
   "mimetype": "text/x-python",
   "name": "python",
   "nbconvert_exporter": "python",
   "pygments_lexer": "ipython2",
   "version": "2.7.13"
  }
 },
 "nbformat": 4,
 "nbformat_minor": 2
}
