{
 "cells": [
  {
   "cell_type": "markdown",
   "metadata": {},
   "source": [
    "Импортируем библиотеки"
   ]
  },
  {
   "cell_type": "code",
   "execution_count": 13,
   "metadata": {
    "collapsed": true
   },
   "outputs": [],
   "source": [
    "import pandas as pd\n",
    "import numpy as np\n",
    "import matplotlib.pyplot as plt\n",
    "import scipy.stats as sts\n",
    "%matplotlib inline"
   ]
  },
  {
   "cell_type": "markdown",
   "metadata": {},
   "source": [
    "Задаём n и  p для биномиального распределения , n1,n2,n3"
   ]
  },
  {
   "cell_type": "code",
   "execution_count": 14,
   "metadata": {
    "collapsed": false
   },
   "outputs": [
    {
     "data": {
      "text/plain": [
       "array([39, 35, 40, 46, 39, 46, 36, 49, 44, 36, 39, 44, 35, 34, 38, 38, 45,\n",
       "       47, 34, 41, 45, 55, 39, 48, 42, 40, 46, 37, 42, 42, 35, 40, 38, 44,\n",
       "       52, 37, 50, 49, 44, 41, 40, 36, 47, 34, 35, 40, 38, 35, 41, 45, 35,\n",
       "       46, 35, 41, 30, 41, 44, 45, 38, 30, 40, 37, 38, 39, 37, 42, 43, 42,\n",
       "       42, 40, 41, 50, 34, 39, 37, 43, 28, 41, 39, 40, 47, 38, 42, 43, 49,\n",
       "       42, 34, 37, 31, 35, 39, 40, 34, 42, 39, 45, 47, 30, 45, 44, 40, 31,\n",
       "       36, 48, 44, 37, 40, 39, 38, 41, 40, 47, 41, 38, 42, 39, 42, 32, 36,\n",
       "       44, 40, 41, 37, 41, 41, 38, 40, 35, 35, 38, 37, 37, 43, 36, 43, 46,\n",
       "       37, 35, 46, 38, 26, 36, 40, 39, 40, 39, 51, 42, 44, 45, 40, 44, 37,\n",
       "       37, 35, 39, 41, 37, 39, 36, 45, 41, 46, 41, 33, 35, 40, 46, 41, 40,\n",
       "       38, 34, 44, 36, 36, 31, 45, 38, 44, 47, 43, 48, 42, 37, 45, 42, 37,\n",
       "       35, 38, 33, 41, 43, 42, 51, 39, 40, 31, 34, 39, 38, 36, 46, 43, 41,\n",
       "       41, 37, 40, 37, 42, 42, 37, 31, 29, 36, 40, 38, 39, 45, 42, 38, 38,\n",
       "       39, 41, 40, 37, 46, 35, 29, 45, 44, 40, 46, 40, 47, 32, 32, 35, 37,\n",
       "       39, 36, 36, 44, 46, 46, 47, 39, 30, 33, 39, 39, 38, 43, 43, 45, 38,\n",
       "       37, 41, 38, 42, 44, 46, 39, 44, 41, 37, 34, 42, 33, 36, 42, 40, 38,\n",
       "       44, 41, 37, 44, 46, 46, 40, 41, 33, 46, 39, 33, 40, 50, 33, 41, 43,\n",
       "       40, 39, 35, 40, 46, 47, 36, 43, 49, 42, 40, 32, 42, 34, 46, 45, 41,\n",
       "       36, 36, 45, 36, 42, 29, 49, 43, 44, 44, 39, 48, 37, 42, 41, 41, 45,\n",
       "       47, 36, 35, 38, 42, 30, 37, 38, 38, 48, 36, 35, 34, 35, 39, 40, 44,\n",
       "       39, 39, 34, 39, 40, 44, 46, 37, 35, 35, 41, 39, 36, 49, 39, 33, 44,\n",
       "       39, 46, 48, 41, 44, 41, 54, 42, 35, 32, 35, 45, 42, 37, 51, 48, 37,\n",
       "       39, 35, 31, 36, 41, 43, 37, 43, 48, 41, 43, 42, 41, 47, 42, 40, 43,\n",
       "       42, 41, 37, 44, 42, 44, 40, 40, 38, 35, 29, 44, 46, 44, 43, 36, 35,\n",
       "       39, 39, 34, 42, 45, 40, 47, 35, 44, 41, 35, 54, 42, 30, 38, 38, 37,\n",
       "       43, 39, 43, 34, 34, 41, 26, 47, 42, 40, 49, 43, 43, 39, 46, 34, 34,\n",
       "       37, 37, 33, 44, 34, 41, 48, 45, 41, 44, 40, 41, 48, 43, 35, 35, 49,\n",
       "       38, 50, 46, 34, 41, 37, 44, 39, 44, 37, 46, 34, 38, 33, 40, 42, 42,\n",
       "       38, 38, 40, 33, 42, 37, 32, 48, 41, 39, 36, 45, 39, 32, 43, 37, 40,\n",
       "       32, 37, 43, 36, 46, 41, 38, 42, 45, 41, 35, 41, 50, 38, 37, 37, 36,\n",
       "       41, 37, 40, 34, 29, 34, 39, 37, 42, 42, 39, 37, 45, 33, 39, 45, 37,\n",
       "       35, 46, 32, 43, 40, 35, 34, 41, 43, 42, 32, 42, 36, 32, 49, 39, 43,\n",
       "       32, 42, 32, 31, 39, 38, 47, 42, 44, 40, 36, 37, 38, 37, 39, 33, 46,\n",
       "       42, 39, 37, 48, 32, 41, 44, 45, 41, 39, 50, 42, 44, 34, 46, 33, 31,\n",
       "       37, 55, 38, 40, 41, 38, 39, 44, 39, 38, 39, 38, 48, 43, 42, 43, 42,\n",
       "       32, 49, 40, 29, 51, 40, 49, 43, 49, 38, 37, 35, 32, 37, 41, 43, 37,\n",
       "       42, 45, 42, 43, 35, 47, 36, 32, 43, 41, 41, 37, 37, 34, 34, 36, 42,\n",
       "       35, 40, 30, 47, 48, 41, 35, 46, 42, 39, 36, 45, 36, 46, 34, 29, 41,\n",
       "       36, 42, 41, 37, 37, 46, 33, 45, 32, 38, 36, 34, 32, 38, 36, 38, 36,\n",
       "       29, 43, 37, 27, 41, 38, 42, 33, 37, 45, 36, 35, 38, 42, 37, 46, 44,\n",
       "       40, 41, 42, 50, 28, 46, 38, 40, 32, 38, 39, 47, 42, 49, 41, 37, 40,\n",
       "       48, 42, 44, 43, 38, 40, 32, 42, 37, 37, 34, 41, 44, 40, 41, 35, 38,\n",
       "       43, 39, 35, 40, 43, 43, 43, 38, 42, 38, 37, 29, 37, 46, 36, 38, 48,\n",
       "       35, 34, 44, 33, 43, 45, 38, 32, 38, 36, 36, 42, 43, 46, 36, 43, 42,\n",
       "       44, 36, 31, 33, 45, 38, 41, 38, 40, 44, 35, 48, 33, 43, 40, 34, 42,\n",
       "       47, 35, 39, 42, 36, 43, 45, 40, 45, 40, 49, 36, 45, 38, 41, 42, 38,\n",
       "       39, 50, 46, 39, 42, 40, 33, 36, 33, 51, 45, 33, 43, 36, 44, 38, 37,\n",
       "       31, 36, 33, 35, 45, 40, 36, 40, 42, 40, 39, 45, 40, 26, 32, 41, 37,\n",
       "       40, 33, 37, 46, 42, 44, 48, 47, 40, 33, 52, 30, 32, 40, 38, 42, 37,\n",
       "       41, 43, 35, 28, 40, 40, 36, 38, 42, 39, 38, 43, 42, 37, 34, 38, 36,\n",
       "       45, 40, 46, 42, 44, 45, 46, 42, 39, 42, 43, 39, 35, 43, 42, 47, 42,\n",
       "       34, 37, 48, 45, 33, 45, 37, 41, 41, 34, 38, 50, 37, 44, 41, 43, 33,\n",
       "       42, 49, 46, 32, 35, 34, 45, 44, 46, 28, 32, 42, 51, 46, 39, 41, 36,\n",
       "       38, 39, 44, 37, 36, 51, 29, 27, 44, 34, 42, 40, 38, 45, 42, 39, 32,\n",
       "       39, 44, 47, 35, 39, 43, 42, 37, 39, 40, 39, 40, 33, 48, 32, 43, 34,\n",
       "       38, 40, 38, 31, 44, 46, 39, 31, 43, 41, 43, 34, 51, 39, 42, 41, 35,\n",
       "       42, 42, 39, 43, 36, 42, 41, 38, 40, 42, 41, 36, 40, 41, 36, 41, 40,\n",
       "       44, 40, 40, 37, 34, 43, 38, 40, 41, 40, 35, 44, 46, 41, 45, 41, 42,\n",
       "       43, 38, 38, 34, 40, 59, 41, 43, 40, 38, 47, 40, 33, 52])"
      ]
     },
     "execution_count": 14,
     "metadata": {},
     "output_type": "execute_result"
    }
   ],
   "source": [
    "n=100\n",
    "n1=5\n",
    "n2=10\n",
    "n3=50\n",
    "p=0.4\n",
    "b1 = sts.binom(n, p)\n",
    "b1.rvs(1000)"
   ]
  },
  {
   "cell_type": "code",
   "execution_count": 15,
   "metadata": {
    "collapsed": false
   },
   "outputs": [
    {
     "data": {
      "text/plain": [
       "<matplotlib.text.Text at 0x11b7f59d0>"
      ]
     },
     "execution_count": 15,
     "metadata": {},
     "output_type": "execute_result"
    },
    {
     "data": {
      "image/png": "[encoded data removed]",
      "text/plain": [
       "<matplotlib.figure.Figure at 0x11b1dad90>"
      ]
     },
     "metadata": {},
     "output_type": "display_data"
    }
   ],
   "source": [
    "x = np.linspace(0,50,10)\n",
    "cdf = b1.cdf(x)\n",
    "plt.step(x, cdf)\n",
    "\n",
    "plt.ylabel('$y$')\n",
    "plt.xlabel('$x$')"
   ]
  },
  {
   "cell_type": "code",
   "execution_count": 16,
   "metadata": {
    "collapsed": false
   },
   "outputs": [
    {
     "data": {
      "text/plain": [
       "<matplotlib.text.Text at 0x11ba31f10>"
      ]
     },
     "execution_count": 16,
     "metadata": {},
     "output_type": "execute_result"
    },
    {
     "data": {
      "image/png": "[encoded data removed]",
      "text/plain": [
       "<matplotlib.figure.Figure at 0x11c61cbd0>"
      ]
     },
     "metadata": {},
     "output_type": "display_data"
    }
   ],
   "source": [
    "x = np.linspace(-50,50,1000)\n",
    "cdf = b1.cdf(x)\n",
    "plt.plot(x, cdf, label='theor', alpha=10)\n",
    "plt.legend()\n",
    "plt.ylabel('$y2')\n",
    "plt.xlabel('$x$')"
   ]
  },
  {
   "cell_type": "code",
   "execution_count": 27,
   "metadata": {
    "collapsed": false
   },
   "outputs": [
    {
     "data": {
      "text/plain": [
       "array([33, 38, 37, 41, 44, 38, 44, 40, 45, 40])"
      ]
     },
     "execution_count": 27,
     "metadata": {},
     "output_type": "execute_result"
    }
   ],
   "source": [
    "s1 = b1.rvs(n1)\n",
    "s2 = b1.rvs(n2)\n",
    "s3 = b1.rvs(n3)\n",
    "norm1= sts.norm(n1*p, n1*p*(1-p) )\n",
    "norm2= sts.norm(n2*p, n2*p*(1-p) )\n",
    "norm3= sts.norm(n3*p, n3*p*(1-p) )\n",
    "\n",
    "s2"
   ]
  },
  {
   "cell_type": "markdown",
   "metadata": {},
   "source": [
    "Случай n=5"
   ]
  },
  {
   "cell_type": "code",
   "execution_count": 24,
   "metadata": {
    "collapsed": false
   },
   "outputs": [
    {
     "data": {
      "image/png": "[encoded data removed]",
      "text/plain": [
       "<matplotlib.figure.Figure at 0x120b052d0>"
      ]
     },
     "metadata": {},
     "output_type": "display_data"
    }
   ],
   "source": [
    "plt.hist(s1, bins=1000, normed=True)\n",
    "plt.ylabel(' 10 samples')\n",
    "plt.xlabel('$x$')\n",
    "\n",
    "x = np.linspace(-50,50,10)\n",
    "pdf = norm1.pdf(x)\n",
    "plt.plot(x, pdf)\n",
    "\n",
    "plt.ylabel('$y1$')\n",
    "plt.xlabel('$x$')\n",
    "plt.show()"
   ]
  },
  {
   "cell_type": "markdown",
   "metadata": {},
   "source": [
    "Случай n=10"
   ]
  },
  {
   "cell_type": "code",
   "execution_count": 19,
   "metadata": {
    "collapsed": false
   },
   "outputs": [
    {
     "data": {
      "text/plain": [
       "<matplotlib.text.Text at 0x11d215d90>"
      ]
     },
     "execution_count": 19,
     "metadata": {},
     "output_type": "execute_result"
    },
    {
     "data": {
      "image/png": "[encoded data removed]",
      "text/plain": [
       "<matplotlib.figure.Figure at 0x11d002290>"
      ]
     },
     "metadata": {},
     "output_type": "display_data"
    }
   ],
   "source": [
    "plt.hist(s2, bins=1000, normed=True)\n",
    "plt.ylabel(' 10 samples')\n",
    "plt.xlabel('$x$')\n",
    "\n",
    "x = np.linspace(-50,50,10)\n",
    "pdf = norm2.pdf(x)\n",
    "plt.plot(x, pdf)\n",
    "\n",
    "plt.ylabel('$y2$')\n",
    "plt.xlabel('$x$')"
   ]
  },
  {
   "cell_type": "markdown",
   "metadata": {},
   "source": [
    "Случай n=50"
   ]
  },
  {
   "cell_type": "code",
   "execution_count": 20,
   "metadata": {
    "collapsed": false
   },
   "outputs": [
    {
     "data": {
      "text/plain": [
       "<matplotlib.text.Text at 0x11e9c8a50>"
      ]
     },
     "execution_count": 20,
     "metadata": {},
     "output_type": "execute_result"
    },
    {
     "data": {
      "image/png": "[encoded data removed]",
      "text/plain": [
       "<matplotlib.figure.Figure at 0x11dc31410>"
      ]
     },
     "metadata": {},
     "output_type": "display_data"
    }
   ],
   "source": [
    "plt.hist(s3, bins=1000, normed=True)\n",
    "plt.ylabel(' 50 samples')\n",
    "plt.xlabel('$x$')\n",
    "\n",
    "x = np.linspace(-50,50,10)\n",
    "pdf = norm3.pdf(x)\n",
    "plt.plot(x, pdf)\n",
    "\n",
    "plt.ylabel('$y2$')\n",
    "plt.xlabel('$x$')"
   ]
  },
  {
   "cell_type": "markdown",
   "metadata": {},
   "source": [
    "Вывод: более высокий порядок объёма выборки более качественно характеризует распределение"
   ]
  }
 ],
 "metadata": {
  "kernelspec": {
   "display_name": "Python 2",
   "language": "python",
   "name": "python2"
  },
  "language_info": {
   "codemirror_mode": {
    "name": "ipython",
    "version": 2
   },
   "file_extension": ".py",
   "mimetype": "text/x-python",
   "name": "python",
   "nbconvert_exporter": "python",
   "pygments_lexer": "ipython2",
   "version": "2.7.13"
  }
 },
 "nbformat": 4,
 "nbformat_minor": 2
}
