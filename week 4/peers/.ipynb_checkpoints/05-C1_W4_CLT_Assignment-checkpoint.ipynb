{
 "cells": [
  {
   "cell_type": "markdown",
   "metadata": {
    "deletable": true,
    "editable": true
   },
   "source": [
    "## Review criteria\n",
    "\n",
    "Решение должно представлять собой IPython-ноутбук, содержащий:\n",
    "\n",
    "- код, генерирующий выборки и графики;\n",
    "- краткие описания каждого блока кода, объясняющие, что он делает;\n",
    "- необходимые графики (убедитесь, что на них подписаны оси);\n",
    "- выкладки с вычислениями параметров нормальных распределений, аппроксимирующих выборочные средние при различных n;\n",
    "- выводы по результатам выполнения задания."
   ]
  },
  {
   "cell_type": "markdown",
   "metadata": {
    "deletable": true,
    "editable": true
   },
   "source": [
    "---"
   ]
  },
  {
   "cell_type": "markdown",
   "metadata": {
    "deletable": true,
    "editable": true
   },
   "source": [
    "# Распределение Парето\n",
    "\n",
    "[wiki](https://ru.wikipedia.org/wiki/Распределение_Парето)  \n",
    "[scipy_manual](https://docs.scipy.org/doc/scipy/reference/generated/scipy.stats.pareto.html#scipy.stats.pareto)  \n",
    "\n",
    "\n",
    "#### Функция распределения:\n",
    "\n",
    "$F_x (x) = P(X < x) = 1 - \\left( \\dfrac {x_m}{x}  \\right )^k, \\forall x \\geq x_m  $\n",
    "\n",
    "\n",
    "#### Плотность распределения:\n",
    "\n",
    "$ f_x (x) = \\begin{cases}\n",
    "                \\dfrac {kx_m^k}{x^{k+1}}, & \\text{если $ x \\geq x_m $} \\\\\n",
    "                0,  & \\text{если $x < x_m $}\n",
    "            \\end{cases}\n",
    "$\n",
    "\n",
    "#### Матожидание:\n",
    "\n",
    "$\\mathbb{E}\\left[X\\right]= \\dfrac {kx_m}{k-1},  k > 1 $\n",
    "\n",
    "#### Дисперсия:\n",
    "\n",
    "$D\\left[X\\right]= \\left(\\dfrac {x_m}{k-1} \\right )^2 \\dfrac {k}{k-2}, k > 2 $\n",
    "\n"
   ]
  },
  {
   "cell_type": "code",
   "execution_count": 276,
   "metadata": {
    "collapsed": true,
    "deletable": true,
    "editable": true
   },
   "outputs": [],
   "source": [
    "import pandas as pd\n",
    "import numpy as np\n",
    "import matplotlib.pyplot as plt\n",
    "import scipy.stats as sts\n",
    "%matplotlib inline"
   ]
  },
  {
   "cell_type": "code",
   "execution_count": 308,
   "metadata": {
    "collapsed": false,
    "deletable": true,
    "editable": true,
    "scrolled": true
   },
   "outputs": [],
   "source": [
    "# Параметры распределения\n",
    "shape = 10 # в формулах выше - параметр k\n",
    "\n",
    "# Генерация выборки (если функция принимает только один параметр, то ${x_m}=1$)\n",
    "pareto_rv = sts.pareto(shape)\n"
   ]
  },
  {
   "cell_type": "code",
   "execution_count": 330,
   "metadata": {
    "collapsed": false,
    "deletable": true,
    "editable": true
   },
   "outputs": [
    {
     "data": {
      "image/png": "[encoded data removed]",
      "text/plain": [
       "<matplotlib.figure.Figure at 0x11794ca10>"
      ]
     },
     "metadata": {},
     "output_type": "display_data"
    }
   ],
   "source": [
    "pdf = pareto_rv.rvs(size=1000)\n",
    "n, bins, patches = plt.hist(pdf, 20, normed=1, facecolor='green', alpha=0.6)\n",
    "plt.xlabel('Value')\n",
    "plt.ylabel('Frequency')\n",
    "\n",
    "pdf = pareto_rv.pdf(bins) #значения функции распределения для вектора точек\n",
    "plt.plot(bins, pdf, 'r--', label=\"Theoretical pdf\") \n",
    "plt.legend()\n",
    "plt.grid()\n"
   ]
  },
  {
   "cell_type": "code",
   "execution_count": 349,
   "metadata": {
    "collapsed": false,
    "deletable": true,
    "editable": true
   },
   "outputs": [
    {
     "name": "stdout",
     "output_type": "stream",
     "text": [
      "EX = 1.11111111111\n",
      "DX = 0.0154320987654\n"
     ]
    }
   ],
   "source": [
    "# Расчет теоретических параметров распределения для приближения выборочных средних\n",
    "\n",
    "n1 = 5\n",
    "n2 = 10\n",
    "n3 = 100\n",
    "\n",
    "EX = float((shape * 1) / float(shape - 1))\n",
    "print 'EX =', float(EX)\n",
    "\n",
    "DX = (1 / float (shape - 1))**2 * float (shape) / float (shape - 2)\n",
    "\n",
    "print 'DX =', DX\n"
   ]
  },
  {
   "cell_type": "code",
   "execution_count": 352,
   "metadata": {
    "collapsed": false,
    "deletable": true,
    "editable": true
   },
   "outputs": [
    {
     "name": "stdout",
     "output_type": "stream",
     "text": [
      "mu =  1.11111111111\n",
      "sigma =  0.0555555555556\n"
     ]
    },
    {
     "data": {
      "image/png": "[encoded data removed]",
      "text/plain": [
       "<matplotlib.figure.Figure at 0x11d456c90>"
      ]
     },
     "metadata": {},
     "output_type": "display_data"
    }
   ],
   "source": [
    "sample_mean_n1 = []\n",
    "\n",
    "# Генерация 1000 выборок объема n1\n",
    "for i in range (0, 1000):\n",
    "    tmp = pareto_rv.rvs(n1)\n",
    "    sample_mean_n1.append(sum(tmp)/n1)\n",
    "\n",
    "# Гистограмма выборочных средних\n",
    "n, bins, patches = plt.hist(sample_mean_n1, 20, normed=True, facecolor='blue', alpha=0.5, label=\"$n=%s$\" % n1)\n",
    "\n",
    "# Среднеквадратичное отклонение (по ЦПТ)\n",
    "sigma = (DX/n1)**0.5\n",
    "\n",
    "print 'mu = ', EX\n",
    "print 'sigma = ', sigma\n",
    "\n",
    "# Аппроксимирующее нормальное распределение\n",
    "x = np.linspace (0.75,1.5,100)\n",
    "norm_rv = sts.norm (EX, sigma)\n",
    "pdf = norm_rv.pdf(x)\n",
    "plt.plot(x, pdf, 'r--', label=\"apprx N\") \n",
    "\n",
    "plt.xlabel('$x$')\n",
    "plt.legend()\n",
    "plt.grid()"
   ]
  },
  {
   "cell_type": "code",
   "execution_count": 342,
   "metadata": {
    "collapsed": false,
    "deletable": true,
    "editable": true,
    "scrolled": false
   },
   "outputs": [
    {
     "name": "stdout",
     "output_type": "stream",
     "text": [
      "mu =  1.11111111111\n",
      "sigma =  0.0392837100659\n"
     ]
    },
    {
     "data": {
      "image/png": "[encoded data removed]",
      "text/plain": [
       "<matplotlib.figure.Figure at 0x11c8b3ad0>"
      ]
     },
     "metadata": {},
     "output_type": "display_data"
    }
   ],
   "source": [
    "sample_mean_n2 = []\n",
    "\n",
    "for i in range (0, 1000):\n",
    "    tmp = pareto_rv.rvs(n2)\n",
    "    sample_mean_n2.append(sum(tmp)/n2)\n",
    "    \n",
    "n, bins, patches = plt.hist(sample_mean_n2, 20, normed = 1, facecolor='red', alpha=0.5, label=\"$n=%s$\" % n2)\n",
    "plt.xlabel('Value')\n",
    "plt.legend()\n",
    "\n",
    "sigma = (DX/n2)**0.5\n",
    "\n",
    "print 'mu = ', EX\n",
    "print 'sigma = ', sigma\n",
    "\n",
    "x = np.linspace (0.9,1.3,100)\n",
    "\n",
    "norm_rv = sts.norm (EX, sigma)\n",
    "pdf = norm_rv.pdf(x)\n",
    "plt.plot(x, pdf, 'r--', label=\"apprx N\") \n",
    "plt.legend()\n",
    "plt.grid()"
   ]
  },
  {
   "cell_type": "code",
   "execution_count": 343,
   "metadata": {
    "collapsed": false,
    "deletable": true,
    "editable": true
   },
   "outputs": [
    {
     "name": "stdout",
     "output_type": "stream",
     "text": [
      "mu =  1.11111111111\n",
      "sigma =  0.012422599875\n"
     ]
    },
    {
     "data": {
      "image/png": "[encoded data removed]",
      "text/plain": [
       "<matplotlib.figure.Figure at 0x11ca72dd0>"
      ]
     },
     "metadata": {},
     "output_type": "display_data"
    }
   ],
   "source": [
    "sample_mean_n3 = []\n",
    "\n",
    "for i in range (0, 1000):\n",
    "    tmp = pareto_rv.rvs(n3)\n",
    "    sample_mean_n3.append(sum(tmp)/n3)\n",
    "    \n",
    "n, bins, patches = plt.hist(sample_mean_n3, 20, normed=True, facecolor='green', alpha=0.5, label=\"$n=%s$\" % n3)\n",
    "plt.legend()\n",
    "\n",
    "sigma = (DX/n3)**0.5\n",
    "\n",
    "print 'mu = ', EX\n",
    "print 'sigma = ', sigma\n",
    "\n",
    "x = np.linspace (1,1.2,100)\n",
    "\n",
    "norm_rv = sts.norm (EX, sigma)\n",
    "pdf = norm_rv.pdf(x)\n",
    "plt.plot(x, pdf, 'r--', label=\"apprx N\") \n",
    "plt.legend()\n",
    "plt.grid()"
   ]
  },
  {
   "cell_type": "markdown",
   "metadata": {
    "deletable": true,
    "editable": true
   },
   "source": [
    "#### Вывод: \n",
    "при увеличении размера выборки, распределение выборочных средних приближается к нормальному распределению"
   ]
  },
  {
   "cell_type": "code",
   "execution_count": null,
   "metadata": {
    "collapsed": true,
    "deletable": true,
    "editable": true
   },
   "outputs": [],
   "source": []
  }
 ],
 "metadata": {
  "kernelspec": {
   "display_name": "Python 2",
   "language": "python",
   "name": "python2"
  },
  "language_info": {
   "codemirror_mode": {
    "name": "ipython",
    "version": 2
   },
   "file_extension": ".py",
   "mimetype": "text/x-python",
   "name": "python",
   "nbconvert_exporter": "python",
   "pygments_lexer": "ipython2",
   "version": "2.7.13"
  }
 },
 "nbformat": 4,
 "nbformat_minor": 2
}
